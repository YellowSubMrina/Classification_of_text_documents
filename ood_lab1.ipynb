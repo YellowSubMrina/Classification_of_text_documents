{
 "cells": [
  {
   "cell_type": "markdown",
   "id": "68806e88-79a2-4211-8728-7a2d6e83b736",
   "metadata": {},
   "source": [
    "Подключение необходимых библиотек "
   ]
  },
  {
   "cell_type": "code",
   "execution_count": 2,
   "id": "ec40e209-b52c-4c89-a81e-38238b234c9b",
   "metadata": {},
   "outputs": [],
   "source": [
    "import pandas as pd\n",
    "import numpy as np\n",
    "import re\n",
    "import seaborn as sns\n",
    "import matplotlib.pyplot as plt\n",
    "from sklearn.model_selection import train_test_split\n",
    "from sklearn.feature_extraction.text import TfidfVectorizer\n",
    "from sklearn.svm import SVC\n",
    "from sklearn.metrics import accuracy_score, classification_report, confusion_matrix\n",
    "from sklearn.neural_network import MLPClassifier"
   ]
  },
  {
   "cell_type": "markdown",
   "id": "fd298c93-5096-4919-9397-215bba015543",
   "metadata": {},
   "source": [
    "Изучение содержимого датасета"
   ]
  },
  {
   "cell_type": "code",
   "execution_count": 3,
   "id": "0e9c75e6-e811-49e2-a7a3-80452f77023a",
   "metadata": {},
   "outputs": [
    {
     "name": "stdout",
     "output_type": "stream",
     "text": [
      "Размер датасета:  (2225, 2)\n",
      "Типы данных:\n",
      " Text     object\n",
      "Label     int64\n",
      "dtype: object\n",
      "Количество пропущенных значений:\n",
      " Text     0\n",
      "Label    0\n",
      "dtype: int64\n"
     ]
    }
   ],
   "source": [
    "data = pd.read_csv('D:\\\\BSU\\\\OOD\\\\df_file.csv')\n",
    "print(\"Размер датасета: \", data.shape)  \n",
    "print(\"Типы данных:\\n\", data.dtypes)  \n",
    "print(\"Количество пропущенных значений:\\n\", data.isnull().sum())"
   ]
  },
  {
   "cell_type": "markdown",
   "id": "2e92a5f3-8af5-4373-9e89-6fb0c90ca458",
   "metadata": {},
   "source": [
    "Подготовка данных"
   ]
  },
  {
   "cell_type": "code",
   "execution_count": 4,
   "id": "695389a9-4ce7-485c-abb7-198c7e8c9836",
   "metadata": {},
   "outputs": [],
   "source": [
    "data['Text'] = data['Text'].str.lower().str.strip()\n",
    "data['Text'] = data['Text'].apply(lambda x: re.sub(r'[^a-zA-Zа-яА-Я\\s]', '', x))"
   ]
  },
  {
   "cell_type": "code",
   "execution_count": 5,
   "id": "b551770c-82eb-4b70-813e-2cd97c992971",
   "metadata": {},
   "outputs": [],
   "source": [
    "X_train, X_test, y_train, y_test = train_test_split(data['Text'], data['Label'], test_size=0.2, random_state=42)\n",
    "vectorizer = TfidfVectorizer(max_features=5000, stop_words='english', ngram_range=(1,2))\n",
    "X_train_tfidf = vectorizer.fit_transform(X_train)\n",
    "X_test_tfidf = vectorizer.transform(X_test)"
   ]
  },
  {
   "cell_type": "markdown",
   "id": "850e81cf-8443-4656-bf79-0f0890d25082",
   "metadata": {},
   "source": [
    "Метод опорных векторов"
   ]
  },
  {
   "cell_type": "code",
   "execution_count": 7,
   "id": "5287b5d9-a9d8-4d70-8a0e-84b0ced219ea",
   "metadata": {},
   "outputs": [],
   "source": [
    "svm_model = SVC(kernel='linear', C=1.0, random_state=42)\n",
    "svm_model.fit(X_train_tfidf, y_train)\n",
    "y_pred = svm_model.predict(X_test_tfidf)"
   ]
  },
  {
   "cell_type": "code",
   "execution_count": 8,
   "id": "60d057be-3563-4d7d-8bb1-db1091ea7b3c",
   "metadata": {},
   "outputs": [
    {
     "name": "stdout",
     "output_type": "stream",
     "text": [
      "Accuracy: 0.9797752808988764\n",
      "              precision    recall  f1-score   support\n",
      "\n",
      "           0       0.98      0.96      0.97        92\n",
      "           1       1.00      1.00      1.00        98\n",
      "           2       0.97      0.99      0.98        77\n",
      "           3       0.97      0.99      0.98        76\n",
      "           4       0.97      0.97      0.97       102\n",
      "\n",
      "    accuracy                           0.98       445\n",
      "   macro avg       0.98      0.98      0.98       445\n",
      "weighted avg       0.98      0.98      0.98       445\n",
      "\n"
     ]
    }
   ],
   "source": [
    "print(\"Accuracy:\", accuracy_score(y_test, y_pred))\n",
    "print(classification_report(y_test, y_pred))"
   ]
  },
  {
   "cell_type": "code",
   "execution_count": 9,
   "id": "aa8597d1-d00b-4a3c-85e0-184b60e56014",
   "metadata": {},
   "outputs": [
    {
     "data": {
      "image/png": "[encoded data removed]",
      "text/plain": [
       "<Figure size 500x400 with 2 Axes>"
      ]
     },
     "metadata": {},
     "output_type": "display_data"
    }
   ],
   "source": [
    "plt.figure(figsize=(5, 4))\n",
    "sns.heatmap(confusion_matrix(y_test, y_pred), annot=True, cmap='Blues', fmt='d')\n",
    "plt.xlabel('Предсказанный')\n",
    "plt.ylabel('Истинный')\n",
    "plt.title('Матрица ошибок SVM')\n",
    "plt.show()"
   ]
  },
  {
   "cell_type": "markdown",
   "id": "028d5aaa-0ce6-414b-8f8b-8ab372db2c72",
   "metadata": {},
   "source": [
    "Нейроные сети прямого распространения"
   ]
  },
  {
   "cell_type": "code",
   "execution_count": 10,
   "id": "76f91263-a83c-4f8c-8354-023b0eae3954",
   "metadata": {},
   "outputs": [],
   "source": [
    "mlp_model = MLPClassifier(hidden_layer_sizes=(50, 20), activation='relu', solver='adam', max_iter=500, random_state=42)\n",
    "mlp_model.fit(X_train_tfidf, y_train)\n",
    "y_pred_mlp = mlp_model.predict(X_test_tfidf)"
   ]
  },
  {
   "cell_type": "code",
   "execution_count": 11,
   "id": "42d91235-ce31-4e76-8986-7ecca72a82ff",
   "metadata": {},
   "outputs": [
    {
     "name": "stdout",
     "output_type": "stream",
     "text": [
      "MLP Accuracy: 0.9775280898876404\n",
      "              precision    recall  f1-score   support\n",
      "\n",
      "           0       0.99      0.95      0.97        92\n",
      "           1       0.99      1.00      0.99        98\n",
      "           2       0.97      0.97      0.97        77\n",
      "           3       0.95      1.00      0.97        76\n",
      "           4       0.98      0.97      0.98       102\n",
      "\n",
      "    accuracy                           0.98       445\n",
      "   macro avg       0.98      0.98      0.98       445\n",
      "weighted avg       0.98      0.98      0.98       445\n",
      "\n"
     ]
    }
   ],
   "source": [
    "print(\"MLP Accuracy:\", accuracy_score(y_test, y_pred_mlp))\n",
    "print(classification_report(y_test, y_pred_mlp))"
   ]
  },
  {
   "cell_type": "code",
   "execution_count": 12,
   "id": "b4b9610a-f660-46d0-9ee1-9bedf8352ac5",
   "metadata": {},
   "outputs": [
    {
     "data": {
      "image/png": "[encoded data removed]",
      "text/plain": [
       "<Figure size 500x400 with 2 Axes>"
      ]
     },
     "metadata": {},
     "output_type": "display_data"
    }
   ],
   "source": [
    "plt.figure(figsize=(5, 4))\n",
    "sns.heatmap(confusion_matrix(y_test, y_pred_mlp), annot=True, cmap='Blues', fmt='d')\n",
    "plt.xlabel('Предсказанный')\n",
    "plt.ylabel('Истинный')\n",
    "plt.title('Матрица ошибок SVM')\n",
    "plt.show()"
   ]
  }
 ],
 "metadata": {
  "kernelspec": {
   "display_name": "Python 3 (ipykernel)",
   "language": "python",
   "name": "python3"
  },
  "language_info": {
   "codemirror_mode": {
    "name": "ipython",
    "version": 3
   },
   "file_extension": ".py",
   "mimetype": "text/x-python",
   "name": "python",
   "nbconvert_exporter": "python",
   "pygments_lexer": "ipython3",
   "version": "3.12.3"
  }
 },
 "nbformat": 4,
 "nbformat_minor": 5
}
